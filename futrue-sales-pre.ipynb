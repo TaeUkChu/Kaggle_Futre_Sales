{
 "cells": [
  {
   "cell_type": "code",
   "execution_count": 1,
   "id": "4bef02d5",
   "metadata": {
    "_cell_guid": "b1076dfc-b9ad-4769-8c92-a6c4dae69d19",
    "_uuid": "8f2839f25d086af736a60e9eeb907d3b93b6e0e5",
    "execution": {
     "iopub.execute_input": "2023-01-11T06:33:20.041843Z",
     "iopub.status.busy": "2023-01-11T06:33:20.041383Z",
     "iopub.status.idle": "2023-01-11T06:33:20.058118Z",
     "shell.execute_reply": "2023-01-11T06:33:20.057039Z"
    },
    "papermill": {
     "duration": 0.027109,
     "end_time": "2023-01-11T06:33:20.060215",
     "exception": false,
     "start_time": "2023-01-11T06:33:20.033106",
     "status": "completed"
    },
    "tags": []
   },
   "outputs": [
    {
     "name": "stdout",
     "output_type": "stream",
     "text": [
      "/kaggle/input/predict-future-sales-translated-dataset/shops_en.csv\n",
      "/kaggle/input/predict-future-sales-translated-dataset/items_en.csv\n",
      "/kaggle/input/predict-future-sales-translated-dataset/item_categories_en.csv\n",
      "/kaggle/input/competitive-data-science-predict-future-sales/items.csv\n",
      "/kaggle/input/competitive-data-science-predict-future-sales/sample_submission.csv\n",
      "/kaggle/input/competitive-data-science-predict-future-sales/item_categories.csv\n",
      "/kaggle/input/competitive-data-science-predict-future-sales/sales_train.csv\n",
      "/kaggle/input/competitive-data-science-predict-future-sales/shops.csv\n",
      "/kaggle/input/competitive-data-science-predict-future-sales/test.csv\n"
     ]
    }
   ],
   "source": [
    "# This Python 3 environment comes with many helpful analytics libraries installed\n",
    "# It is defined by the kaggle/python Docker image: https://github.com/kaggle/docker-python\n",
    "# For example, here's several helpful packages to load\n",
    "\n",
    "import numpy as np # linear algebra\n",
    "import pandas as pd # data processing, CSV file I/O (e.g. pd.read_csv)\n",
    "\n",
    "# Input data files are available in the read-only \"../input/\" directory\n",
    "# For example, running this (by clicking run or pressing Shift+Enter) will list all files under the input directory\n",
    "\n",
    "import os\n",
    "for dirname, _, filenames in os.walk('/kaggle/input'):\n",
    "    for filename in filenames:\n",
    "        print(os.path.join(dirname, filename))\n",
    "\n",
    "# You can write up to 20GB to the current directory (/kaggle/working/) that gets preserved as output when you create a version using \"Save & Run All\" \n",
    "# You can also write temporary files to /kaggle/temp/, but they won't be saved outside of the current session"
   ]
  },
  {
   "cell_type": "markdown",
   "id": "66572788",
   "metadata": {
    "papermill": {
     "duration": 0.005017,
     "end_time": "2023-01-11T06:33:20.070656",
     "exception": false,
     "start_time": "2023-01-11T06:33:20.065639",
     "status": "completed"
    },
    "tags": []
   },
   "source": [
    "## 1. 라이브러리 추가"
   ]
  },
  {
   "cell_type": "code",
   "execution_count": 2,
   "id": "db452354",
   "metadata": {
    "execution": {
     "iopub.execute_input": "2023-01-11T06:33:20.082635Z",
     "iopub.status.busy": "2023-01-11T06:33:20.082238Z",
     "iopub.status.idle": "2023-01-11T06:33:21.560868Z",
     "shell.execute_reply": "2023-01-11T06:33:21.559321Z"
    },
    "papermill": {
     "duration": 1.488258,
     "end_time": "2023-01-11T06:33:21.564044",
     "exception": false,
     "start_time": "2023-01-11T06:33:20.075786",
     "status": "completed"
    },
    "tags": []
   },
   "outputs": [],
   "source": [
    "import datetime #시계열 데이터 처리\n",
    "import numpy as np\n",
    "import pandas as pd\n",
    "\n",
    "#시각화 라이브러리\n",
    "import seaborn as sns\n",
    "import matplotlib.pyplot as plt\n",
    "\n",
    "#전처리 라이브러리\n",
    "from sklearn.preprocessing import StandardScaler, MinMaxScaler\n",
    "\n",
    "#모델 라이브러리\n",
    "from sklearn.linear_model import LinearRegression\n",
    "from sklearn.neighbors import KNeighborsRegressor\n",
    "from sklearn.ensemble import RandomForestRegressor\n",
    "from xgboost import XGBRegressor\n",
    "from xgboost import plot_importance #xgboost 중요 피처 시각화\n",
    "\n",
    "#성능 측정\n",
    "from sklearn.metrics import mean_squared_error"
   ]
  },
  {
   "cell_type": "markdown",
   "id": "5174a048",
   "metadata": {
    "papermill": {
     "duration": 0.005012,
     "end_time": "2023-01-11T06:33:21.575038",
     "exception": false,
     "start_time": "2023-01-11T06:33:21.570026",
     "status": "completed"
    },
    "tags": []
   },
   "source": [
    "## 2. 데이터 셋 가져오기"
   ]
  },
  {
   "cell_type": "code",
   "execution_count": 3,
   "id": "feea7cd4",
   "metadata": {
    "execution": {
     "iopub.execute_input": "2023-01-11T06:33:21.587600Z",
     "iopub.status.busy": "2023-01-11T06:33:21.587264Z",
     "iopub.status.idle": "2023-01-11T06:33:24.069338Z",
     "shell.execute_reply": "2023-01-11T06:33:24.068143Z"
    },
    "papermill": {
     "duration": 2.491774,
     "end_time": "2023-01-11T06:33:24.072613",
     "exception": false,
     "start_time": "2023-01-11T06:33:21.580839",
     "status": "completed"
    },
    "tags": []
   },
   "outputs": [],
   "source": [
    "train = pd.read_csv('/kaggle/input/competitive-data-science-predict-future-sales/sales_train.csv')\n",
    "test = pd.read_csv('/kaggle/input/competitive-data-science-predict-future-sales/test.csv')\n",
    "item = pd.read_csv('/kaggle/input/predict-future-sales-translated-dataset/items_en.csv')\n",
    "item_cat = pd.read_csv('/kaggle/input/predict-future-sales-translated-dataset/item_categories_en.csv')\n",
    "shop = pd.read_csv('/kaggle/input/predict-future-sales-translated-dataset/shops_en.csv')\n",
    "\n",
    "sample = pd.read_csv('/kaggle/input/competitive-data-science-predict-future-sales/sample_submission.csv')"
   ]
  },
  {
   "cell_type": "markdown",
   "id": "c8a0b8cf",
   "metadata": {
    "papermill": {
     "duration": 0.004867,
     "end_time": "2023-01-11T06:33:24.082846",
     "exception": false,
     "start_time": "2023-01-11T06:33:24.077979",
     "status": "completed"
    },
    "tags": []
   },
   "source": [
    "### 2.1 데이터 병합"
   ]
  },
  {
   "cell_type": "code",
   "execution_count": 4,
   "id": "159fc5e5",
   "metadata": {
    "execution": {
     "iopub.execute_input": "2023-01-11T06:33:24.094934Z",
     "iopub.status.busy": "2023-01-11T06:33:24.094571Z",
     "iopub.status.idle": "2023-01-11T06:33:25.970120Z",
     "shell.execute_reply": "2023-01-11T06:33:25.969408Z"
    },
    "papermill": {
     "duration": 1.884463,
     "end_time": "2023-01-11T06:33:25.972523",
     "exception": false,
     "start_time": "2023-01-11T06:33:24.088060",
     "status": "completed"
    },
    "tags": []
   },
   "outputs": [],
   "source": [
    "merge_item = pd.merge(train,item, on = 'item_id', how = 'left')\n",
    "merge_item_cat = pd.merge(merge_item ,item_cat, on = 'item_category_id', how = 'left')\n",
    "merge_shop = pd.merge(merge_item_cat, shop, on ='shop_id', how = 'left')\n",
    "#merge_shop = merge_shop.reset_index(['date','date_block_num','shop_id','shop_name'])\n",
    "data = merge_shop.copy()"
   ]
  },
  {
   "cell_type": "code",
   "execution_count": 5,
   "id": "6200f3f6",
   "metadata": {
    "execution": {
     "iopub.execute_input": "2023-01-11T06:33:25.987057Z",
     "iopub.status.busy": "2023-01-11T06:33:25.985549Z",
     "iopub.status.idle": "2023-01-11T06:33:26.009049Z",
     "shell.execute_reply": "2023-01-11T06:33:26.008168Z"
    },
    "papermill": {
     "duration": 0.033342,
     "end_time": "2023-01-11T06:33:26.011092",
     "exception": false,
     "start_time": "2023-01-11T06:33:25.977750",
     "status": "completed"
    },
    "tags": []
   },
   "outputs": [
    {
     "data": {
      "text/html": [
       "<div>\n",
       "<style scoped>\n",
       "    .dataframe tbody tr th:only-of-type {\n",
       "        vertical-align: middle;\n",
       "    }\n",
       "\n",
       "    .dataframe tbody tr th {\n",
       "        vertical-align: top;\n",
       "    }\n",
       "\n",
       "    .dataframe thead th {\n",
       "        text-align: right;\n",
       "    }\n",
       "</style>\n",
       "<table border=\"1\" class=\"dataframe\">\n",
       "  <thead>\n",
       "    <tr style=\"text-align: right;\">\n",
       "      <th></th>\n",
       "      <th>date</th>\n",
       "      <th>date_block_num</th>\n",
       "      <th>shop_id</th>\n",
       "      <th>item_id</th>\n",
       "      <th>item_price</th>\n",
       "      <th>item_cnt_day</th>\n",
       "      <th>item_name</th>\n",
       "      <th>item_category_id</th>\n",
       "      <th>item_category_name</th>\n",
       "      <th>shop_name</th>\n",
       "    </tr>\n",
       "  </thead>\n",
       "  <tbody>\n",
       "    <tr>\n",
       "      <th>0</th>\n",
       "      <td>02.01.2013</td>\n",
       "      <td>0</td>\n",
       "      <td>59</td>\n",
       "      <td>22154</td>\n",
       "      <td>999.00</td>\n",
       "      <td>1.0</td>\n",
       "      <td>Scene 2012 (BD)</td>\n",
       "      <td>37</td>\n",
       "      <td>Movies - Blu-Ray</td>\n",
       "      <td>Yaroslavl shopping center \"Altair\"</td>\n",
       "    </tr>\n",
       "    <tr>\n",
       "      <th>1</th>\n",
       "      <td>03.01.2013</td>\n",
       "      <td>0</td>\n",
       "      <td>25</td>\n",
       "      <td>2552</td>\n",
       "      <td>899.00</td>\n",
       "      <td>1.0</td>\n",
       "      <td>DEEP PURPLE  The House Of Blue Light  LP</td>\n",
       "      <td>58</td>\n",
       "      <td>Music - Vinyl</td>\n",
       "      <td>Moscow TRC \"Atrium\"</td>\n",
       "    </tr>\n",
       "    <tr>\n",
       "      <th>2</th>\n",
       "      <td>05.01.2013</td>\n",
       "      <td>0</td>\n",
       "      <td>25</td>\n",
       "      <td>2552</td>\n",
       "      <td>899.00</td>\n",
       "      <td>-1.0</td>\n",
       "      <td>DEEP PURPLE  The House Of Blue Light  LP</td>\n",
       "      <td>58</td>\n",
       "      <td>Music - Vinyl</td>\n",
       "      <td>Moscow TRC \"Atrium\"</td>\n",
       "    </tr>\n",
       "    <tr>\n",
       "      <th>3</th>\n",
       "      <td>06.01.2013</td>\n",
       "      <td>0</td>\n",
       "      <td>25</td>\n",
       "      <td>2554</td>\n",
       "      <td>1709.05</td>\n",
       "      <td>1.0</td>\n",
       "      <td>DEEP PURPLE  Who Do You Think We Are  LP</td>\n",
       "      <td>58</td>\n",
       "      <td>Music - Vinyl</td>\n",
       "      <td>Moscow TRC \"Atrium\"</td>\n",
       "    </tr>\n",
       "    <tr>\n",
       "      <th>4</th>\n",
       "      <td>15.01.2013</td>\n",
       "      <td>0</td>\n",
       "      <td>25</td>\n",
       "      <td>2555</td>\n",
       "      <td>1099.00</td>\n",
       "      <td>1.0</td>\n",
       "      <td>DEEP PURPLE 30 Very Best Of 2CD (Фирм.)</td>\n",
       "      <td>56</td>\n",
       "      <td>Music - CD production firm</td>\n",
       "      <td>Moscow TRC \"Atrium\"</td>\n",
       "    </tr>\n",
       "    <tr>\n",
       "      <th>5</th>\n",
       "      <td>10.01.2013</td>\n",
       "      <td>0</td>\n",
       "      <td>25</td>\n",
       "      <td>2564</td>\n",
       "      <td>349.00</td>\n",
       "      <td>1.0</td>\n",
       "      <td>DEEP PURPLE Perihelion: Live In Concert DVD (К...</td>\n",
       "      <td>59</td>\n",
       "      <td>Music - Music video</td>\n",
       "      <td>Moscow TRC \"Atrium\"</td>\n",
       "    </tr>\n",
       "    <tr>\n",
       "      <th>6</th>\n",
       "      <td>02.01.2013</td>\n",
       "      <td>0</td>\n",
       "      <td>25</td>\n",
       "      <td>2565</td>\n",
       "      <td>549.00</td>\n",
       "      <td>1.0</td>\n",
       "      <td>DEEP PURPLE Stormbringer (фирм.)</td>\n",
       "      <td>56</td>\n",
       "      <td>Music - CD production firm</td>\n",
       "      <td>Moscow TRC \"Atrium\"</td>\n",
       "    </tr>\n",
       "    <tr>\n",
       "      <th>7</th>\n",
       "      <td>04.01.2013</td>\n",
       "      <td>0</td>\n",
       "      <td>25</td>\n",
       "      <td>2572</td>\n",
       "      <td>239.00</td>\n",
       "      <td>1.0</td>\n",
       "      <td>In premonition of love I and F S</td>\n",
       "      <td>55</td>\n",
       "      <td>Music - CD of local production</td>\n",
       "      <td>Moscow TRC \"Atrium\"</td>\n",
       "    </tr>\n",
       "    <tr>\n",
       "      <th>8</th>\n",
       "      <td>11.01.2013</td>\n",
       "      <td>0</td>\n",
       "      <td>25</td>\n",
       "      <td>2572</td>\n",
       "      <td>299.00</td>\n",
       "      <td>1.0</td>\n",
       "      <td>In premonition of love I and F S</td>\n",
       "      <td>55</td>\n",
       "      <td>Music - CD of local production</td>\n",
       "      <td>Moscow TRC \"Atrium\"</td>\n",
       "    </tr>\n",
       "    <tr>\n",
       "      <th>9</th>\n",
       "      <td>03.01.2013</td>\n",
       "      <td>0</td>\n",
       "      <td>25</td>\n",
       "      <td>2573</td>\n",
       "      <td>299.00</td>\n",
       "      <td>3.0</td>\n",
       "      <td>DEL REY LANA  Born To Die</td>\n",
       "      <td>55</td>\n",
       "      <td>Music - CD of local production</td>\n",
       "      <td>Moscow TRC \"Atrium\"</td>\n",
       "    </tr>\n",
       "  </tbody>\n",
       "</table>\n",
       "</div>"
      ],
      "text/plain": [
       "         date  date_block_num  shop_id  item_id  item_price  item_cnt_day  \\\n",
       "0  02.01.2013               0       59    22154      999.00           1.0   \n",
       "1  03.01.2013               0       25     2552      899.00           1.0   \n",
       "2  05.01.2013               0       25     2552      899.00          -1.0   \n",
       "3  06.01.2013               0       25     2554     1709.05           1.0   \n",
       "4  15.01.2013               0       25     2555     1099.00           1.0   \n",
       "5  10.01.2013               0       25     2564      349.00           1.0   \n",
       "6  02.01.2013               0       25     2565      549.00           1.0   \n",
       "7  04.01.2013               0       25     2572      239.00           1.0   \n",
       "8  11.01.2013               0       25     2572      299.00           1.0   \n",
       "9  03.01.2013               0       25     2573      299.00           3.0   \n",
       "\n",
       "                                           item_name  item_category_id  \\\n",
       "0                                    Scene 2012 (BD)                37   \n",
       "1           DEEP PURPLE  The House Of Blue Light  LP                58   \n",
       "2           DEEP PURPLE  The House Of Blue Light  LP                58   \n",
       "3           DEEP PURPLE  Who Do You Think We Are  LP                58   \n",
       "4            DEEP PURPLE 30 Very Best Of 2CD (Фирм.)                56   \n",
       "5  DEEP PURPLE Perihelion: Live In Concert DVD (К...                59   \n",
       "6                   DEEP PURPLE Stormbringer (фирм.)                56   \n",
       "7                   In premonition of love I and F S                55   \n",
       "8                   In premonition of love I and F S                55   \n",
       "9                          DEL REY LANA  Born To Die                55   \n",
       "\n",
       "               item_category_name                           shop_name  \n",
       "0                Movies - Blu-Ray  Yaroslavl shopping center \"Altair\"  \n",
       "1                   Music - Vinyl                 Moscow TRC \"Atrium\"  \n",
       "2                   Music - Vinyl                 Moscow TRC \"Atrium\"  \n",
       "3                   Music - Vinyl                 Moscow TRC \"Atrium\"  \n",
       "4      Music - CD production firm                 Moscow TRC \"Atrium\"  \n",
       "5             Music - Music video                 Moscow TRC \"Atrium\"  \n",
       "6      Music - CD production firm                 Moscow TRC \"Atrium\"  \n",
       "7  Music - CD of local production                 Moscow TRC \"Atrium\"  \n",
       "8  Music - CD of local production                 Moscow TRC \"Atrium\"  \n",
       "9  Music - CD of local production                 Moscow TRC \"Atrium\"  "
      ]
     },
     "execution_count": 5,
     "metadata": {},
     "output_type": "execute_result"
    }
   ],
   "source": [
    "data.head(10)"
   ]
  },
  {
   "cell_type": "markdown",
   "id": "e0fc77bf",
   "metadata": {
    "papermill": {
     "duration": 0.005091,
     "end_time": "2023-01-11T06:33:26.021823",
     "exception": false,
     "start_time": "2023-01-11T06:33:26.016732",
     "status": "completed"
    },
    "tags": []
   },
   "source": [
    "## 3. EDA"
   ]
  },
  {
   "cell_type": "markdown",
   "id": "86a56cd9",
   "metadata": {
    "papermill": {
     "duration": 0.005004,
     "end_time": "2023-01-11T06:33:26.032240",
     "exception": false,
     "start_time": "2023-01-11T06:33:26.027236",
     "status": "completed"
    },
    "tags": []
   },
   "source": [
    "### 3.0 기본 정보 확인"
   ]
  },
  {
   "cell_type": "code",
   "execution_count": 6,
   "id": "ebde32c4",
   "metadata": {
    "execution": {
     "iopub.execute_input": "2023-01-11T06:33:26.045702Z",
     "iopub.status.busy": "2023-01-11T06:33:26.044618Z",
     "iopub.status.idle": "2023-01-11T06:33:26.061547Z",
     "shell.execute_reply": "2023-01-11T06:33:26.060368Z"
    },
    "papermill": {
     "duration": 0.026114,
     "end_time": "2023-01-11T06:33:26.063575",
     "exception": false,
     "start_time": "2023-01-11T06:33:26.037461",
     "status": "completed"
    },
    "tags": []
   },
   "outputs": [
    {
     "data": {
      "text/html": [
       "<div>\n",
       "<style scoped>\n",
       "    .dataframe tbody tr th:only-of-type {\n",
       "        vertical-align: middle;\n",
       "    }\n",
       "\n",
       "    .dataframe tbody tr th {\n",
       "        vertical-align: top;\n",
       "    }\n",
       "\n",
       "    .dataframe thead th {\n",
       "        text-align: right;\n",
       "    }\n",
       "</style>\n",
       "<table border=\"1\" class=\"dataframe\">\n",
       "  <thead>\n",
       "    <tr style=\"text-align: right;\">\n",
       "      <th></th>\n",
       "      <th>date</th>\n",
       "      <th>date_block_num</th>\n",
       "      <th>shop_id</th>\n",
       "      <th>item_id</th>\n",
       "      <th>item_price</th>\n",
       "      <th>item_cnt_day</th>\n",
       "      <th>item_name</th>\n",
       "      <th>item_category_id</th>\n",
       "      <th>item_category_name</th>\n",
       "      <th>shop_name</th>\n",
       "    </tr>\n",
       "  </thead>\n",
       "  <tbody>\n",
       "    <tr>\n",
       "      <th>0</th>\n",
       "      <td>02.01.2013</td>\n",
       "      <td>0</td>\n",
       "      <td>59</td>\n",
       "      <td>22154</td>\n",
       "      <td>999.00</td>\n",
       "      <td>1.0</td>\n",
       "      <td>Scene 2012 (BD)</td>\n",
       "      <td>37</td>\n",
       "      <td>Movies - Blu-Ray</td>\n",
       "      <td>Yaroslavl shopping center \"Altair\"</td>\n",
       "    </tr>\n",
       "    <tr>\n",
       "      <th>1</th>\n",
       "      <td>03.01.2013</td>\n",
       "      <td>0</td>\n",
       "      <td>25</td>\n",
       "      <td>2552</td>\n",
       "      <td>899.00</td>\n",
       "      <td>1.0</td>\n",
       "      <td>DEEP PURPLE  The House Of Blue Light  LP</td>\n",
       "      <td>58</td>\n",
       "      <td>Music - Vinyl</td>\n",
       "      <td>Moscow TRC \"Atrium\"</td>\n",
       "    </tr>\n",
       "    <tr>\n",
       "      <th>2</th>\n",
       "      <td>05.01.2013</td>\n",
       "      <td>0</td>\n",
       "      <td>25</td>\n",
       "      <td>2552</td>\n",
       "      <td>899.00</td>\n",
       "      <td>-1.0</td>\n",
       "      <td>DEEP PURPLE  The House Of Blue Light  LP</td>\n",
       "      <td>58</td>\n",
       "      <td>Music - Vinyl</td>\n",
       "      <td>Moscow TRC \"Atrium\"</td>\n",
       "    </tr>\n",
       "    <tr>\n",
       "      <th>3</th>\n",
       "      <td>06.01.2013</td>\n",
       "      <td>0</td>\n",
       "      <td>25</td>\n",
       "      <td>2554</td>\n",
       "      <td>1709.05</td>\n",
       "      <td>1.0</td>\n",
       "      <td>DEEP PURPLE  Who Do You Think We Are  LP</td>\n",
       "      <td>58</td>\n",
       "      <td>Music - Vinyl</td>\n",
       "      <td>Moscow TRC \"Atrium\"</td>\n",
       "    </tr>\n",
       "    <tr>\n",
       "      <th>4</th>\n",
       "      <td>15.01.2013</td>\n",
       "      <td>0</td>\n",
       "      <td>25</td>\n",
       "      <td>2555</td>\n",
       "      <td>1099.00</td>\n",
       "      <td>1.0</td>\n",
       "      <td>DEEP PURPLE 30 Very Best Of 2CD (Фирм.)</td>\n",
       "      <td>56</td>\n",
       "      <td>Music - CD production firm</td>\n",
       "      <td>Moscow TRC \"Atrium\"</td>\n",
       "    </tr>\n",
       "    <tr>\n",
       "      <th>5</th>\n",
       "      <td>10.01.2013</td>\n",
       "      <td>0</td>\n",
       "      <td>25</td>\n",
       "      <td>2564</td>\n",
       "      <td>349.00</td>\n",
       "      <td>1.0</td>\n",
       "      <td>DEEP PURPLE Perihelion: Live In Concert DVD (К...</td>\n",
       "      <td>59</td>\n",
       "      <td>Music - Music video</td>\n",
       "      <td>Moscow TRC \"Atrium\"</td>\n",
       "    </tr>\n",
       "    <tr>\n",
       "      <th>6</th>\n",
       "      <td>02.01.2013</td>\n",
       "      <td>0</td>\n",
       "      <td>25</td>\n",
       "      <td>2565</td>\n",
       "      <td>549.00</td>\n",
       "      <td>1.0</td>\n",
       "      <td>DEEP PURPLE Stormbringer (фирм.)</td>\n",
       "      <td>56</td>\n",
       "      <td>Music - CD production firm</td>\n",
       "      <td>Moscow TRC \"Atrium\"</td>\n",
       "    </tr>\n",
       "    <tr>\n",
       "      <th>7</th>\n",
       "      <td>04.01.2013</td>\n",
       "      <td>0</td>\n",
       "      <td>25</td>\n",
       "      <td>2572</td>\n",
       "      <td>239.00</td>\n",
       "      <td>1.0</td>\n",
       "      <td>In premonition of love I and F S</td>\n",
       "      <td>55</td>\n",
       "      <td>Music - CD of local production</td>\n",
       "      <td>Moscow TRC \"Atrium\"</td>\n",
       "    </tr>\n",
       "    <tr>\n",
       "      <th>8</th>\n",
       "      <td>11.01.2013</td>\n",
       "      <td>0</td>\n",
       "      <td>25</td>\n",
       "      <td>2572</td>\n",
       "      <td>299.00</td>\n",
       "      <td>1.0</td>\n",
       "      <td>In premonition of love I and F S</td>\n",
       "      <td>55</td>\n",
       "      <td>Music - CD of local production</td>\n",
       "      <td>Moscow TRC \"Atrium\"</td>\n",
       "    </tr>\n",
       "    <tr>\n",
       "      <th>9</th>\n",
       "      <td>03.01.2013</td>\n",
       "      <td>0</td>\n",
       "      <td>25</td>\n",
       "      <td>2573</td>\n",
       "      <td>299.00</td>\n",
       "      <td>3.0</td>\n",
       "      <td>DEL REY LANA  Born To Die</td>\n",
       "      <td>55</td>\n",
       "      <td>Music - CD of local production</td>\n",
       "      <td>Moscow TRC \"Atrium\"</td>\n",
       "    </tr>\n",
       "  </tbody>\n",
       "</table>\n",
       "</div>"
      ],
      "text/plain": [
       "         date  date_block_num  shop_id  item_id  item_price  item_cnt_day  \\\n",
       "0  02.01.2013               0       59    22154      999.00           1.0   \n",
       "1  03.01.2013               0       25     2552      899.00           1.0   \n",
       "2  05.01.2013               0       25     2552      899.00          -1.0   \n",
       "3  06.01.2013               0       25     2554     1709.05           1.0   \n",
       "4  15.01.2013               0       25     2555     1099.00           1.0   \n",
       "5  10.01.2013               0       25     2564      349.00           1.0   \n",
       "6  02.01.2013               0       25     2565      549.00           1.0   \n",
       "7  04.01.2013               0       25     2572      239.00           1.0   \n",
       "8  11.01.2013               0       25     2572      299.00           1.0   \n",
       "9  03.01.2013               0       25     2573      299.00           3.0   \n",
       "\n",
       "                                           item_name  item_category_id  \\\n",
       "0                                    Scene 2012 (BD)                37   \n",
       "1           DEEP PURPLE  The House Of Blue Light  LP                58   \n",
       "2           DEEP PURPLE  The House Of Blue Light  LP                58   \n",
       "3           DEEP PURPLE  Who Do You Think We Are  LP                58   \n",
       "4            DEEP PURPLE 30 Very Best Of 2CD (Фирм.)                56   \n",
       "5  DEEP PURPLE Perihelion: Live In Concert DVD (К...                59   \n",
       "6                   DEEP PURPLE Stormbringer (фирм.)                56   \n",
       "7                   In premonition of love I and F S                55   \n",
       "8                   In premonition of love I and F S                55   \n",
       "9                          DEL REY LANA  Born To Die                55   \n",
       "\n",
       "               item_category_name                           shop_name  \n",
       "0                Movies - Blu-Ray  Yaroslavl shopping center \"Altair\"  \n",
       "1                   Music - Vinyl                 Moscow TRC \"Atrium\"  \n",
       "2                   Music - Vinyl                 Moscow TRC \"Atrium\"  \n",
       "3                   Music - Vinyl                 Moscow TRC \"Atrium\"  \n",
       "4      Music - CD production firm                 Moscow TRC \"Atrium\"  \n",
       "5             Music - Music video                 Moscow TRC \"Atrium\"  \n",
       "6      Music - CD production firm                 Moscow TRC \"Atrium\"  \n",
       "7  Music - CD of local production                 Moscow TRC \"Atrium\"  \n",
       "8  Music - CD of local production                 Moscow TRC \"Atrium\"  \n",
       "9  Music - CD of local production                 Moscow TRC \"Atrium\"  "
      ]
     },
     "execution_count": 6,
     "metadata": {},
     "output_type": "execute_result"
    }
   ],
   "source": [
    "#기본 정보\n",
    "data.head(10)"
   ]
  },
  {
   "cell_type": "code",
   "execution_count": 7,
   "id": "4b8a2b5f",
   "metadata": {
    "execution": {
     "iopub.execute_input": "2023-01-11T06:33:26.076905Z",
     "iopub.status.busy": "2023-01-11T06:33:26.076567Z",
     "iopub.status.idle": "2023-01-11T06:33:26.093299Z",
     "shell.execute_reply": "2023-01-11T06:33:26.092083Z"
    },
    "papermill": {
     "duration": 0.026115,
     "end_time": "2023-01-11T06:33:26.095763",
     "exception": false,
     "start_time": "2023-01-11T06:33:26.069648",
     "status": "completed"
    },
    "tags": []
   },
   "outputs": [
    {
     "name": "stdout",
     "output_type": "stream",
     "text": [
      "<class 'pandas.core.frame.DataFrame'>\n",
      "Int64Index: 2935849 entries, 0 to 2935848\n",
      "Data columns (total 10 columns):\n",
      " #   Column              Dtype  \n",
      "---  ------              -----  \n",
      " 0   date                object \n",
      " 1   date_block_num      int64  \n",
      " 2   shop_id             int64  \n",
      " 3   item_id             int64  \n",
      " 4   item_price          float64\n",
      " 5   item_cnt_day        float64\n",
      " 6   item_name           object \n",
      " 7   item_category_id    int64  \n",
      " 8   item_category_name  object \n",
      " 9   shop_name           object \n",
      "dtypes: float64(2), int64(4), object(4)\n",
      "memory usage: 246.4+ MB\n"
     ]
    }
   ],
   "source": [
    "#데이터 셋 요약\n",
    "data.info()"
   ]
  },
  {
   "cell_type": "code",
   "execution_count": 8,
   "id": "cfbaed49",
   "metadata": {
    "execution": {
     "iopub.execute_input": "2023-01-11T06:33:26.109609Z",
     "iopub.status.busy": "2023-01-11T06:33:26.109129Z",
     "iopub.status.idle": "2023-01-11T06:33:26.466355Z",
     "shell.execute_reply": "2023-01-11T06:33:26.465281Z"
    },
    "papermill": {
     "duration": 0.367288,
     "end_time": "2023-01-11T06:33:26.469043",
     "exception": false,
     "start_time": "2023-01-11T06:33:26.101755",
     "status": "completed"
    },
    "tags": []
   },
   "outputs": [
    {
     "data": {
      "text/html": [
       "<div>\n",
       "<style scoped>\n",
       "    .dataframe tbody tr th:only-of-type {\n",
       "        vertical-align: middle;\n",
       "    }\n",
       "\n",
       "    .dataframe tbody tr th {\n",
       "        vertical-align: top;\n",
       "    }\n",
       "\n",
       "    .dataframe thead th {\n",
       "        text-align: right;\n",
       "    }\n",
       "</style>\n",
       "<table border=\"1\" class=\"dataframe\">\n",
       "  <thead>\n",
       "    <tr style=\"text-align: right;\">\n",
       "      <th></th>\n",
       "      <th>date_block_num</th>\n",
       "      <th>shop_id</th>\n",
       "      <th>item_id</th>\n",
       "      <th>item_price</th>\n",
       "      <th>item_cnt_day</th>\n",
       "      <th>item_category_id</th>\n",
       "    </tr>\n",
       "  </thead>\n",
       "  <tbody>\n",
       "    <tr>\n",
       "      <th>count</th>\n",
       "      <td>2.935849e+06</td>\n",
       "      <td>2.935849e+06</td>\n",
       "      <td>2.935849e+06</td>\n",
       "      <td>2.935849e+06</td>\n",
       "      <td>2.935849e+06</td>\n",
       "      <td>2.935849e+06</td>\n",
       "    </tr>\n",
       "    <tr>\n",
       "      <th>mean</th>\n",
       "      <td>1.456991e+01</td>\n",
       "      <td>3.300173e+01</td>\n",
       "      <td>1.019723e+04</td>\n",
       "      <td>8.908532e+02</td>\n",
       "      <td>1.242641e+00</td>\n",
       "      <td>4.000138e+01</td>\n",
       "    </tr>\n",
       "    <tr>\n",
       "      <th>std</th>\n",
       "      <td>9.422988e+00</td>\n",
       "      <td>1.622697e+01</td>\n",
       "      <td>6.324297e+03</td>\n",
       "      <td>1.729800e+03</td>\n",
       "      <td>2.618834e+00</td>\n",
       "      <td>1.710076e+01</td>\n",
       "    </tr>\n",
       "    <tr>\n",
       "      <th>min</th>\n",
       "      <td>0.000000e+00</td>\n",
       "      <td>0.000000e+00</td>\n",
       "      <td>0.000000e+00</td>\n",
       "      <td>-1.000000e+00</td>\n",
       "      <td>-2.200000e+01</td>\n",
       "      <td>0.000000e+00</td>\n",
       "    </tr>\n",
       "    <tr>\n",
       "      <th>25%</th>\n",
       "      <td>7.000000e+00</td>\n",
       "      <td>2.200000e+01</td>\n",
       "      <td>4.476000e+03</td>\n",
       "      <td>2.490000e+02</td>\n",
       "      <td>1.000000e+00</td>\n",
       "      <td>2.800000e+01</td>\n",
       "    </tr>\n",
       "    <tr>\n",
       "      <th>50%</th>\n",
       "      <td>1.400000e+01</td>\n",
       "      <td>3.100000e+01</td>\n",
       "      <td>9.343000e+03</td>\n",
       "      <td>3.990000e+02</td>\n",
       "      <td>1.000000e+00</td>\n",
       "      <td>4.000000e+01</td>\n",
       "    </tr>\n",
       "    <tr>\n",
       "      <th>75%</th>\n",
       "      <td>2.300000e+01</td>\n",
       "      <td>4.700000e+01</td>\n",
       "      <td>1.568400e+04</td>\n",
       "      <td>9.990000e+02</td>\n",
       "      <td>1.000000e+00</td>\n",
       "      <td>5.500000e+01</td>\n",
       "    </tr>\n",
       "    <tr>\n",
       "      <th>max</th>\n",
       "      <td>3.300000e+01</td>\n",
       "      <td>5.900000e+01</td>\n",
       "      <td>2.216900e+04</td>\n",
       "      <td>3.079800e+05</td>\n",
       "      <td>2.169000e+03</td>\n",
       "      <td>8.300000e+01</td>\n",
       "    </tr>\n",
       "  </tbody>\n",
       "</table>\n",
       "</div>"
      ],
      "text/plain": [
       "       date_block_num       shop_id       item_id    item_price  item_cnt_day  \\\n",
       "count    2.935849e+06  2.935849e+06  2.935849e+06  2.935849e+06  2.935849e+06   \n",
       "mean     1.456991e+01  3.300173e+01  1.019723e+04  8.908532e+02  1.242641e+00   \n",
       "std      9.422988e+00  1.622697e+01  6.324297e+03  1.729800e+03  2.618834e+00   \n",
       "min      0.000000e+00  0.000000e+00  0.000000e+00 -1.000000e+00 -2.200000e+01   \n",
       "25%      7.000000e+00  2.200000e+01  4.476000e+03  2.490000e+02  1.000000e+00   \n",
       "50%      1.400000e+01  3.100000e+01  9.343000e+03  3.990000e+02  1.000000e+00   \n",
       "75%      2.300000e+01  4.700000e+01  1.568400e+04  9.990000e+02  1.000000e+00   \n",
       "max      3.300000e+01  5.900000e+01  2.216900e+04  3.079800e+05  2.169000e+03   \n",
       "\n",
       "       item_category_id  \n",
       "count      2.935849e+06  \n",
       "mean       4.000138e+01  \n",
       "std        1.710076e+01  \n",
       "min        0.000000e+00  \n",
       "25%        2.800000e+01  \n",
       "50%        4.000000e+01  \n",
       "75%        5.500000e+01  \n",
       "max        8.300000e+01  "
      ]
     },
     "execution_count": 8,
     "metadata": {},
     "output_type": "execute_result"
    }
   ],
   "source": [
    "#수치 데이터 요약\n",
    "data.describe()"
   ]
  },
  {
   "cell_type": "markdown",
   "id": "7ee8d0dd",
   "metadata": {
    "papermill": {
     "duration": 0.005995,
     "end_time": "2023-01-11T06:33:26.481796",
     "exception": false,
     "start_time": "2023-01-11T06:33:26.475801",
     "status": "completed"
    },
    "tags": []
   },
   "source": [
    "### 3.1 결측치 확인"
   ]
  },
  {
   "cell_type": "code",
   "execution_count": 9,
   "id": "30cf397f",
   "metadata": {
    "execution": {
     "iopub.execute_input": "2023-01-11T06:33:26.496182Z",
     "iopub.status.busy": "2023-01-11T06:33:26.495820Z",
     "iopub.status.idle": "2023-01-11T06:33:26.921391Z",
     "shell.execute_reply": "2023-01-11T06:33:26.920260Z"
    },
    "papermill": {
     "duration": 0.436431,
     "end_time": "2023-01-11T06:33:26.924392",
     "exception": false,
     "start_time": "2023-01-11T06:33:26.487961",
     "status": "completed"
    },
    "tags": []
   },
   "outputs": [
    {
     "data": {
      "text/plain": [
       "date                  0\n",
       "date_block_num        0\n",
       "shop_id               0\n",
       "item_id               0\n",
       "item_price            0\n",
       "item_cnt_day          0\n",
       "item_name             0\n",
       "item_category_id      0\n",
       "item_category_name    0\n",
       "shop_name             0\n",
       "dtype: int64"
      ]
     },
     "execution_count": 9,
     "metadata": {},
     "output_type": "execute_result"
    }
   ],
   "source": [
    "data.isna().sum()"
   ]
  },
  {
   "cell_type": "markdown",
   "id": "6b1b04d5",
   "metadata": {
    "papermill": {
     "duration": 0.005855,
     "end_time": "2023-01-11T06:33:26.936531",
     "exception": false,
     "start_time": "2023-01-11T06:33:26.930676",
     "status": "completed"
    },
    "tags": []
   },
   "source": [
    "### 3.2 Shop 이름이 같은 Shop 처리"
   ]
  },
  {
   "cell_type": "code",
   "execution_count": 10,
   "id": "5f9ef26f",
   "metadata": {
    "execution": {
     "iopub.execute_input": "2023-01-11T06:33:26.950387Z",
     "iopub.status.busy": "2023-01-11T06:33:26.950016Z",
     "iopub.status.idle": "2023-01-11T06:33:26.969870Z",
     "shell.execute_reply": "2023-01-11T06:33:26.968692Z"
    },
    "papermill": {
     "duration": 0.029235,
     "end_time": "2023-01-11T06:33:26.971765",
     "exception": false,
     "start_time": "2023-01-11T06:33:26.942530",
     "status": "completed"
    },
    "tags": []
   },
   "outputs": [
    {
     "data": {
      "text/plain": [
       "{0, 1, 8, 9, 11, 13, 17, 20, 23, 27, 29, 30, 32, 33, 40, 43, 51, 54}"
      ]
     },
     "execution_count": 10,
     "metadata": {},
     "output_type": "execute_result"
    }
   ],
   "source": [
    "#테스트 셋에 없는 shop_id \n",
    "set(data['shop_id'].unique()) - set(test['shop_id'].unique()) "
   ]
  },
  {
   "cell_type": "code",
   "execution_count": 11,
   "id": "47ae7cb8",
   "metadata": {
    "execution": {
     "iopub.execute_input": "2023-01-11T06:33:26.986479Z",
     "iopub.status.busy": "2023-01-11T06:33:26.985220Z",
     "iopub.status.idle": "2023-01-11T06:33:26.994669Z",
     "shell.execute_reply": "2023-01-11T06:33:26.993255Z"
    },
    "papermill": {
     "duration": 0.019255,
     "end_time": "2023-01-11T06:33:26.997189",
     "exception": false,
     "start_time": "2023-01-11T06:33:26.977934",
     "status": "completed"
    },
    "tags": []
   },
   "outputs": [
    {
     "data": {
      "text/plain": [
       "0                  ! Yakutsk Ordzhonikidze, 56 Franc\n",
       "1                       ! Yakutsk TC \"Central\" Franc\n",
       "2                                   Adygea TC \"Mega\"\n",
       "3                   Balashikha TRC \"October-Kinomir\"\n",
       "4                         Volzhsky mall \"Volga Mall\"\n",
       "5                            Vologda SEC \"Marmalade\"\n",
       "6                      Voronezh (Plekhanovskaya, 13)\n",
       "7                            Voronezh TRC \"Maksimir\"\n",
       "8                      Voronezh TRC City-Park \"City\"\n",
       "9                                    Itinerant trade\n",
       "10                    Zhukovsky Street. Chkalov 39m?\n",
       "11                    Zhukovsky Street. Chkalov 39m²\n",
       "12                           Shop Online Emergencies\n",
       "13                   Kazan shopping center \"Bahetle\"\n",
       "14          Kazan shopping mall of \"Parkhouse\" II of\n",
       "15                          Kaluga SEC \"XXI Century\"\n",
       "16                                  Kolomna TC \"Rio\"\n",
       "17                    Krasnoyarsk TC \"Vzletka Plaza\"\n",
       "18                             Krasnoyarsk SC \"June\"\n",
       "19                                Kursk TC \"Pushkin\"\n",
       "20                                     Moscow \"Sale\"\n",
       "21                           Moscow MTRTS \"Afi Mall\"\n",
       "22                                   Moscow Shop C21\n",
       "23                   Moscow TK \"Budenovsky\" (pav.A2)\n",
       "24                   Moscow TK \"Budenovsky\" (pav.K7)\n",
       "25                               Moscow TRC \"Atrium\"\n",
       "26            Moscow shopping mall \"area\" (Belyaevo)\n",
       "27     Moscow shopping center \"MEGA Belaya Dacha II\"\n",
       "28    Moscow shopping center \"MEGA Teply Stan\" II of\n",
       "29     Moscow shopping center \"New Age\" (Novokosino)\n",
       "30                            Moscow TC \"Perlovskiy\"\n",
       "31                 Moscow shopping center \"Semyonov\"\n",
       "32             Moscow shopping center \"Silver House\"\n",
       "33                              Mytishchi TRK \"XL-3\"\n",
       "34                         Nizhny Novgorod SEC \"RIO\"\n",
       "35                     Nizhny Novgorod SEC \"Fantasy\"\n",
       "36             Novosibirsk SEC \"Gallery Novosibirsk\"\n",
       "37                             Novosibirsk TC \"Mega\"\n",
       "38                                    Omsk TC \"Mega\"\n",
       "39             RostovNaDonu TRC \"Megacenter Horizon\"\n",
       "40      RostovNaDonu TRC \"Megacenter Horizon\" Island\n",
       "41                            RostovNaDonu TC \"Mega\"\n",
       "42                 St. Petersburg TK \"Nevsky Center\"\n",
       "43                       St. Petersburg TK \"Sennaya\"\n",
       "44                                Samara TC \"Melody\"\n",
       "45                              Samara TC \"Parkhaus\"\n",
       "46                            Sergiyev Posad TC \"7H\"\n",
       "47                            Surgut SEC \"City Mall\"\n",
       "48                          Tomsk SEC \"Emerald City\"\n",
       "49                              Tyumen SEC \"Crystal\"\n",
       "50                               Tyumen SC \"Goodwin\"\n",
       "51                           Tyumen SC \"Green Coast\"\n",
       "52                                  Ufa TC \"Central\"\n",
       "53                                 Ufa TC \"Family\" 2\n",
       "54                                  Khimki TC \"Mega\"\n",
       "55                           Digital storage 1C-line\n",
       "56                             Czechs SEC \"Carnival\"\n",
       "57                         Yakutsk Ordzhonikidze, 56\n",
       "58                              Yakutsk TC \"Central\"\n",
       "59                Yaroslavl shopping center \"Altair\"\n",
       "Name: shop_name, dtype: object"
      ]
     },
     "execution_count": 11,
     "metadata": {},
     "output_type": "execute_result"
    }
   ],
   "source": [
    "#전체 shop 이름\n",
    "shop['shop_name']"
   ]
  },
  {
   "cell_type": "code",
   "execution_count": 12,
   "id": "e59d8412",
   "metadata": {
    "execution": {
     "iopub.execute_input": "2023-01-11T06:33:27.012348Z",
     "iopub.status.busy": "2023-01-11T06:33:27.011871Z",
     "iopub.status.idle": "2023-01-11T06:33:27.020921Z",
     "shell.execute_reply": "2023-01-11T06:33:27.019387Z"
    },
    "papermill": {
     "duration": 0.020018,
     "end_time": "2023-01-11T06:33:27.023956",
     "exception": false,
     "start_time": "2023-01-11T06:33:27.003938",
     "status": "completed"
    },
    "tags": []
   },
   "outputs": [],
   "source": [
    "#이름이 겹치는 shop 종류 : (1 58)(10 11)(30 31 32)(39 40)\n",
    "def shop_diff_cat(shop_id1,shop_id2):\n",
    "    shop_1 = data.loc[data['shop_id']==shop_id1,'shop_name'].unique()\n",
    "    shop_2 = data.loc[data['shop_id']==shop_id2,'shop_name'].unique()\n",
    "    data1 = data[data['shop_id'].isin([shop_id1])].loc[:,'item_category_name'].unique()\n",
    "    data2 = data[data['shop_id'].isin([shop_id2])].loc[:,'item_category_name'].unique()\n",
    "\n",
    "    data1_set = set(list(data1))\n",
    "    data2_set = set(list(data2))\n",
    "    dup_set = data2_set - data1_set #shop의 중복 Id 중복 데이터 셋\n",
    "    sort_list = sorted(list(dup_set))\n",
    "    print(f'shop1 이름: {shop_1}\\nshop2 이름: {shop_2}')\n",
    "    print(\"중복되지 않은 카테고리\" )\n",
    "    for cat in sort_list:\n",
    "        print(cat)"
   ]
  },
  {
   "cell_type": "code",
   "execution_count": 13,
   "id": "7be447f5",
   "metadata": {
    "execution": {
     "iopub.execute_input": "2023-01-11T06:33:27.038620Z",
     "iopub.status.busy": "2023-01-11T06:33:27.038257Z",
     "iopub.status.idle": "2023-01-11T06:33:27.079872Z",
     "shell.execute_reply": "2023-01-11T06:33:27.078503Z"
    },
    "papermill": {
     "duration": 0.052273,
     "end_time": "2023-01-11T06:33:27.082842",
     "exception": false,
     "start_time": "2023-01-11T06:33:27.030569",
     "status": "completed"
    },
    "tags": []
   },
   "outputs": [
    {
     "name": "stdout",
     "output_type": "stream",
     "text": [
      "shop1 이름: ['! Yakutsk TC \"Central\" Franc']\n",
      "shop2 이름: ['Yakutsk TC \"Central\"']\n",
      "중복되지 않은 카테고리\n",
      "Accessories - XBOX ONE\n",
      "Books - Comics, Manga\n",
      "Books - artbook, encyclopedia\n",
      "Game consoles - Other\n",
      "Game consoles - PS4\n",
      "Game consoles - XBOX ONE\n",
      "Games - PS4\n",
      "Gifts - Attributes\n",
      "Gifts - Bags, Albums, Mats d / mouse\n",
      "Movie - Blu-Ray 4K\n",
      "Music - Gift Edition\n",
      "Music - MP3\n",
      "Music - Music video\n",
      "Payment card (Movies, Music, Games)\n",
      "System Tools\n",
      "Tickets (digits)\n",
      "Игры - XBOX ONE\n"
     ]
    }
   ],
   "source": [
    "shop_diff_cat(1,58)"
   ]
  },
  {
   "cell_type": "markdown",
   "id": "b4941e57",
   "metadata": {
    "papermill": {
     "duration": 0.007158,
     "end_time": "2023-01-11T06:33:27.097323",
     "exception": false,
     "start_time": "2023-01-11T06:33:27.090165",
     "status": "completed"
    },
    "tags": []
   },
   "source": [
    "### 3.3 item_category_name(big), city, building col 생성"
   ]
  },
  {
   "cell_type": "code",
   "execution_count": 14,
   "id": "5fed05fa",
   "metadata": {
    "execution": {
     "iopub.execute_input": "2023-01-11T06:33:27.113273Z",
     "iopub.status.busy": "2023-01-11T06:33:27.112857Z",
     "iopub.status.idle": "2023-01-11T06:33:30.611638Z",
     "shell.execute_reply": "2023-01-11T06:33:30.609887Z"
    },
    "papermill": {
     "duration": 3.510607,
     "end_time": "2023-01-11T06:33:30.614771",
     "exception": false,
     "start_time": "2023-01-11T06:33:27.104164",
     "status": "completed"
    },
    "tags": []
   },
   "outputs": [],
   "source": [
    "# - (hypen) 붙은 문장 앞이 대분류\n",
    "#카테고리(대분류)생성\n",
    "data['item_category_name(big)'] = data['item_category_name'].map(lambda x : x.split('-')[0].strip())\n",
    "#도시,복합쇼핑몰 column 생성\n",
    "data['city'] = data['shop_name'].map(lambda x : x.split(' ')[0])\n",
    "data['buildings'] = data['shop_name'].map(lambda x : x.split(' ')[1])"
   ]
  },
  {
   "cell_type": "code",
   "execution_count": null,
   "id": "88aad3cc",
   "metadata": {
    "papermill": {
     "duration": 0.006171,
     "end_time": "2023-01-11T06:33:30.627974",
     "exception": false,
     "start_time": "2023-01-11T06:33:30.621803",
     "status": "completed"
    },
    "tags": []
   },
   "outputs": [],
   "source": []
  },
  {
   "cell_type": "code",
   "execution_count": null,
   "id": "938b3358",
   "metadata": {
    "papermill": {
     "duration": 0.006938,
     "end_time": "2023-01-11T06:33:30.641307",
     "exception": false,
     "start_time": "2023-01-11T06:33:30.634369",
     "status": "completed"
    },
    "tags": []
   },
   "outputs": [],
   "source": []
  },
  {
   "cell_type": "code",
   "execution_count": null,
   "id": "91b9916f",
   "metadata": {
    "papermill": {
     "duration": 0.006125,
     "end_time": "2023-01-11T06:33:30.653886",
     "exception": false,
     "start_time": "2023-01-11T06:33:30.647761",
     "status": "completed"
    },
    "tags": []
   },
   "outputs": [],
   "source": []
  }
 ],
 "metadata": {
  "kernelspec": {
   "display_name": "Python 3",
   "language": "python",
   "name": "python3"
  },
  "language_info": {
   "codemirror_mode": {
    "name": "ipython",
    "version": 3
   },
   "file_extension": ".py",
   "mimetype": "text/x-python",
   "name": "python",
   "nbconvert_exporter": "python",
   "pygments_lexer": "ipython3",
   "version": "3.7.12"
  },
  "papermill": {
   "default_parameters": {},
   "duration": 19.703303,
   "end_time": "2023-01-11T06:33:31.683280",
   "environment_variables": {},
   "exception": null,
   "input_path": "__notebook__.ipynb",
   "output_path": "__notebook__.ipynb",
   "parameters": {},
   "start_time": "2023-01-11T06:33:11.979977",
   "version": "2.3.4"
  }
 },
 "nbformat": 4,
 "nbformat_minor": 5
}
